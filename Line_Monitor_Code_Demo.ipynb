{
 "cells": [
  {
   "cell_type": "markdown",
   "metadata": {},
   "source": [
    "# **Line Monitor**: A Line Balancing and Optimization Program\n",
    "\n",
    "**Author**: Hongjoon Kim\n",
    "\n",
    "**Association**: Naveen Jindal School of Management, University of Texas at Dallas\n",
    "\n",
    "**Instructor**: Prof. Vatsal Maru\n",
    "\n",
    "**Course**: ITSS 4381 Object-Oriented Programming with Python"
   ]
  },
  {
   "cell_type": "markdown",
   "metadata": {},
   "source": [
    "## Introduction\n",
    "\n",
    "Line monitor is a line optimization program designed with on-the-floor production line managers and leads in mind. The purpose of this program is to automate the otherwise tedious calculations to optimize production line performance. \n",
    "\n",
    "See the accompanying report for more details on the background, assumptions, and general instructions for using this program."
   ]
  },
  {
   "cell_type": "markdown",
   "metadata": {},
   "source": [
    "## Code"
   ]
  },
  {
   "cell_type": "code",
   "execution_count": 143,
   "metadata": {},
   "outputs": [],
   "source": [
    "class LineMonitor:\n",
    "\n",
    "    def __init__(self, line_name: str, order_size: int, production_hr: float, pack_task_sec: int, pall_task_sec: int):\n",
    "        \"\"\"\n",
    "        Initializes at the creation of an instance of this class\n",
    "\n",
    "        Inputs:\n",
    "        1. line_name: Specify a str with the line name\n",
    "        2. order_size: Specify an int for number of units in the order (positive num. only)\n",
    "        3. production_hr: Specify a float for available production hours (positive num. only)\n",
    "        4. pack_task_time: Specify a int for time (in sec) for a unit to pass through the packaging (positive num. only)\n",
    "        5. pall_task_time: Specify a int for time (in sec) for a unit to pass through the packaging (positive num. only)\n",
    "        \n",
    "        Ouput:\n",
    "        1. Multiple printed str introducing the user to the capability of Line Monitor\n",
    "        \"\"\"\n",
    "\n",
    "\n",
    "        if order_size <= 0 or production_hr <= 0 or pack_task_sec <= 0 or pall_task_sec <=0: \n",
    "            print(\"Error: Numerical inputs must be greater than 0!\")\n",
    "            return None # Excludes non-positive num. as a numerical arg.\n",
    "        \n",
    "        self.line_name = line_name \n",
    "        self.order_size = order_size\n",
    "        self.production_hr = production_hr \n",
    "        self.pack_task_sec = pack_task_sec \n",
    "        self.pall_task_sec = pall_task_sec\n",
    "        self.__stage_prop = [0.3334, 0.3333, 0.3333] # Proportion of time spent on each production stage\n",
    "        # Initialize data attributes\n",
    "\n",
    "        print(f\"-------------- Welcome to Line Monitor! --------------\\n\")\n",
    "        print(f\"Line Name: {self.line_name}\\nDepartment: Packaging\\n\")\n",
    "        print(\"-------------- Optimize --------------\\n\")\n",
    "        print(\"# optimizeTaktTimeWorkerCt: Optimize worker count by stages.\\n\")\n",
    "        print(\"-------------- Edit --------------\\n\")\n",
    "        print(\"# productionHrEdit: Change the available production time\")\n",
    "        print(\"# taskSecEdit: Change the expected average task time\")\n",
    "        print(\"# orderSizeEdit: Change the order quantity\") \n",
    "        print(\"# changeStageProportions: Change proportions of takt time used by each stage\")\n",
    "        # Generate program navigation\n",
    "\n",
    "    def optimizeTaktTimeWorkerCt(self):\n",
    "        \"\"\"\n",
    "        1. Optimizes the takt time to meet the customer demand\n",
    "        2. Optimizes the worker count to meet the customer demand\n",
    "\n",
    "        Inputs:\n",
    "        1. None\n",
    "\n",
    "        Outputs:\n",
    "        1. Multiple printed str including Takt Time Report and Recommended Worker Count\n",
    "        \"\"\"\n",
    "\n",
    "\n",
    "        from math import ceil \n",
    "        # Import ceiling function\n",
    "\n",
    "        self.takttime = (self.production_hr * 60 * 60) / self.order_size \n",
    "        # Ideal time (in sec) for a unit to pass through the line\n",
    "\n",
    "        self.taktpack, self.takttran, self.taktpall = (self.takttime * self.__stage_prop[0]),(self.takttime * self.__stage_prop[1]), (self.takttime * self.__stage_prop[2])\n",
    "        # Ideal time (in sec) for a unit to pass through each stage \n",
    "        # Note: Packing (33%) -> Transporting (33%) -> Palleting (33%)\n",
    "\n",
    "        print(\"\\n-------------- Takt Time Report --------------\\n\")\n",
    "        print(f\"Takt Time for the Current Order Size = {round(self.takttime, 2)} seconds\")\n",
    "        print(f\"Takt Time for the Current Order Size for Packaging = {round(self.taktpack, 2)} seconds\")\n",
    "        print(f\"Takt Time for the Current Order Size for Assembly Line Belt Transportation = {round(self.takttran, 2)} seconds\")\n",
    "        print(f\"Takt Time for the Current Order Size for Palleting = {round(self.taktpall, 2)} seconds\")\n",
    "        print(\"\\n----------------------------------------------\\n\") \n",
    "        # Generate Optimized Takt Time Report\n",
    "\n",
    "        packager_ct = ceil(self.pack_task_sec / self.taktpack) \n",
    "        # \"Upper\" Bound of Needed Packager\n",
    "\n",
    "        palleter_ct = ceil(self.pall_task_sec / self.taktpall) \n",
    "        # \"Upper\" Bound of Needed Palleter\n",
    "        \n",
    "        print(\"\\n-------------- Recommended Worker Count --------------\\n\")\n",
    "        print(f\"For the demand of {self.order_size} units to be met within {self.production_hr} hours,\")\n",
    "        print(f\"with the expected task time per unit for each packager and for each palleter \\nbeing {self.pack_task_sec} seconds and {self.pall_task_sec} seconds, respectively,\")\n",
    "        print(f\"there has to be at least {packager_ct} packagers and\")\n",
    "        print(f\"{palleter_ct} palleters to meet the demand.\")\n",
    "        print(f\"This will cause cycle time being within {self.takttime} seconds.\")\n",
    "        print(\"\\n------------------------------------------------------\\n\")\n",
    "        # Generate Optimized Worker Count Report\n",
    "    \n",
    "    def productionHrEdit(self, num: float):\n",
    "        \"\"\"\n",
    "        Edits the data attribute 'production_hr'\n",
    "\n",
    "        Input:\n",
    "        1. num: A float value indicating the new production_hr (positive num. only)\n",
    "\n",
    "        Output:\n",
    "        1. Printed str indicating the change of information\n",
    "        \"\"\"\n",
    "\n",
    "\n",
    "        if num > 0:\n",
    "            self.production_hr = num # Update the data attribute\n",
    "            print(f\"\\nUPDATE NOTICE:\\n{num} Hours of Production Time Set\\n\") # Notify Update\n",
    "        else:\n",
    "            print(\"Error: Numerical inputs must be greater than 0!\") # Exclude non-positive num arg.\n",
    "\n",
    "    def taskSecEdit(self, type_pack_or_pall: str, num: float):\n",
    "        \"\"\"\n",
    "        Edits either the data attributes 'pack_task_sec' or 'pall_task_sec'\n",
    "\n",
    "        Input:\n",
    "        1. type_pack_or_pall: A str value of either 'pack' (for packaging) or 'pall' (for palleting)\n",
    "        2. num: A float value indicating the new data attribute value (positive num. only)\n",
    "\n",
    "        Output:\n",
    "        1. A printed str indicating the change of information\n",
    "        \"\"\"\n",
    "\n",
    "\n",
    "        if num <= 0:\n",
    "            return \"Error: Numerical inputs must be greater than 0!\" # Exclude non-positive from num arg.\n",
    "        \n",
    "        if type_pack_or_pall == 'pack': # Packaging Stage\n",
    "            self.pack_task_sec = num # Update the data attribute\n",
    "            print(f\"\\nUPDATE NOTICE:\\nNew Expected Unit Packaging Time: {num} seconds\") # Notify Update\n",
    "        else: # Palleting Stage\n",
    "            self.pall_task_sec = num # Update the data attribute\n",
    "            print(f\"\\nUPDATE NOTICE:\\nNew Expected Unit Palleting Time: {num} seconds\") # Notify Update\n",
    "    \n",
    "    def orderSizeEdit(self, num: int):\n",
    "        \"\"\"\n",
    "        Edits the data attribute 'order_size'\n",
    "\n",
    "        Input:\n",
    "        1. num: A float value indicating the new order_size (positive num. only)\n",
    "\n",
    "        Output:\n",
    "        1. A printed str indicating the change of information\n",
    "        \"\"\"\n",
    "        if num > 0:\n",
    "            self.order_size = num # Update the data attribute\n",
    "            print(f\"\\nUPDATE NOTICE:\\nOrder Quanitity: {num} devices\\n\") # Notify Update\n",
    "        else:\n",
    "            return \"Error: Numerical inputs must be greater than 0!\" # Exclude non-positive from num arg.\n",
    "    \n",
    "    def changeStageProportions(self, proplist: list):\n",
    "        \"\"\"\n",
    "        Changes the proportion of cycle time each stage spends\n",
    "\n",
    "        Input:\n",
    "        1. proplist: a list of positive floats between 0 and 1 (exclusive) that add up to 1\n",
    "\n",
    "        Output:\n",
    "        1. A printed str indicating the change of information\n",
    "        \"\"\"\n",
    "        if True in [(type(j) not in (int, float)) for j in proplist]:\n",
    "            return \"Error: Invalid entry! Check that the elements are numerical.\"\n",
    "\n",
    "        if sum(proplist) >= 0.9999 and sum(proplist) <= 1.0001:\n",
    "            self.__stage_prop = proplist\n",
    "            print(f\"\\nUPDATE NOTICE:\\n\")\n",
    "            print(f\"Packaging: {round(self.__stage_prop[0] * 100, 2)} % of the Cycle Time\")\n",
    "            print(f\"Assembly Line Transportation: {round(self.__stage_prop[1] * 100, 2)} % of the Cycle Time\")\n",
    "            print(f\"Palleting: {round(self.__stage_prop[2] * 100, 2)} % of the Cycle Time\")\n",
    "        else:\n",
    "            print(\"Error: Please ensure that the elements add up to 1 and that the length is 3!\")\n",
    "    def __repr__(self):\n",
    "        \"\"\"\n",
    "        Returns a string representation of the object\n",
    "\n",
    "        Input:\n",
    "        1. None\n",
    "\n",
    "        Output:\n",
    "        1. A str value representation of the object\n",
    "        \"\"\"\n",
    "        return f\"Line Monitor Active for {self.line_name}\""
   ]
  },
  {
   "cell_type": "markdown",
   "metadata": {},
   "source": [
    "## Demonstration"
   ]
  },
  {
   "cell_type": "code",
   "execution_count": 144,
   "metadata": {},
   "outputs": [
    {
     "name": "stdout",
     "output_type": "stream",
     "text": [
      "-------------- Welcome to Line Monitor! --------------\n",
      "\n",
      "Line Name: PBLK1\n",
      "Department: Packaging\n",
      "\n",
      "-------------- Optimize --------------\n",
      "\n",
      "# optimizeTaktTimeWorkerCt: Optimize worker count by stages.\n",
      "\n",
      "-------------- Edit --------------\n",
      "\n",
      "# productionHrEdit: Change the available production time\n",
      "# taskSecEdit: Change the expected average task time\n",
      "# orderSizeEdit: Change the order quantity\n",
      "# changeStageProportions: Change proportions of takt time used by each stage\n"
     ]
    }
   ],
   "source": [
    "pblk1 = LineMonitor('PBLK1', 5000, 8, 35, 5)\n",
    "# Create a line \"PBLK1\"\n",
    "# Its current order has 5,000 devices to be packed.\n",
    "# It has 8 total production hours.\n",
    "# Each packager is expected to produce a unit every 35 seconds.\n",
    "# Each palleter is expected to pallet a unit every 5 seconds."
   ]
  },
  {
   "cell_type": "code",
   "execution_count": 145,
   "metadata": {},
   "outputs": [
    {
     "data": {
      "text/plain": [
       "Line Monitor Active for PBLK1"
      ]
     },
     "execution_count": 145,
     "metadata": {},
     "output_type": "execute_result"
    }
   ],
   "source": [
    "pblk1 \n",
    "# String Representation"
   ]
  },
  {
   "cell_type": "code",
   "execution_count": 146,
   "metadata": {},
   "outputs": [
    {
     "name": "stdout",
     "output_type": "stream",
     "text": [
      "\n",
      "-------------- Takt Time Report --------------\n",
      "\n",
      "Takt Time for the Current Order Size = 5.76 seconds\n",
      "Takt Time for the Current Order Size for Packaging = 1.92 seconds\n",
      "Takt Time for the Current Order Size for Assembly Line Belt Transportation = 1.92 seconds\n",
      "Takt Time for the Current Order Size for Palleting = 1.92 seconds\n",
      "\n",
      "----------------------------------------------\n",
      "\n",
      "\n",
      "-------------- Recommended Worker Count --------------\n",
      "\n",
      "For the demand of 5000 units to be met within 8 hours,\n",
      "with the expected task time per unit for each packager and for each palleter \n",
      "being 35 seconds and 5 seconds, respectively,\n",
      "there has to be at least 19 packagers and\n",
      "3 palleters to meet the demand.\n",
      "This will cause cycle time being within 5.76 seconds.\n",
      "\n",
      "------------------------------------------------------\n",
      "\n"
     ]
    }
   ],
   "source": [
    "pblk1.optimizeTaktTimeWorkerCt() \n",
    "# Optimize takt time and worker count to meet the customer demand"
   ]
  },
  {
   "cell_type": "code",
   "execution_count": 147,
   "metadata": {},
   "outputs": [
    {
     "name": "stdout",
     "output_type": "stream",
     "text": [
      "\n",
      "UPDATE NOTICE:\n",
      "7 Hours of Production Time Set\n",
      "\n"
     ]
    }
   ],
   "source": [
    "pblk1.productionHrEdit(7)\n",
    "# Change of plan: The facility has to close early for disinfecting COVID-19"
   ]
  },
  {
   "cell_type": "code",
   "execution_count": 148,
   "metadata": {},
   "outputs": [
    {
     "name": "stdout",
     "output_type": "stream",
     "text": [
      "\n",
      "UPDATE NOTICE:\n",
      "Order Quanitity: 3000 devices\n",
      "\n"
     ]
    }
   ],
   "source": [
    "pblk1.orderSizeEdit(3000)\n",
    "# Change of plan: Given the early closure of the facility, line is expected to produce only 3,000."
   ]
  },
  {
   "cell_type": "code",
   "execution_count": 149,
   "metadata": {},
   "outputs": [
    {
     "name": "stdout",
     "output_type": "stream",
     "text": [
      "\n",
      "UPDATE NOTICE:\n",
      "New Expected Unit Packaging Time: 25 seconds\n",
      "\n",
      "UPDATE NOTICE:\n",
      "New Expected Unit Palleting Time: 10 seconds\n"
     ]
    }
   ],
   "source": [
    "pblk1.taskSecEdit('pack', 25)\n",
    "# Pleasant Surprise: The packaging kit for this order is pre-made.\n",
    "# Packagers are expected to produce a unit every 25 seconds.\n",
    "\n",
    "pblk1.taskSecEdit('pall', 10)\n",
    "# Unexpected surprise: The new kit is difficult to pallet due to its unconventional shape.\n",
    "# Pallets are expected to pallet a unit every 10 seconds."
   ]
  },
  {
   "cell_type": "code",
   "execution_count": 150,
   "metadata": {},
   "outputs": [
    {
     "name": "stdout",
     "output_type": "stream",
     "text": [
      "\n",
      "-------------- Takt Time Report --------------\n",
      "\n",
      "Takt Time for the Current Order Size = 8.4 seconds\n",
      "Takt Time for the Current Order Size for Packaging = 2.8 seconds\n",
      "Takt Time for the Current Order Size for Assembly Line Belt Transportation = 2.8 seconds\n",
      "Takt Time for the Current Order Size for Palleting = 2.8 seconds\n",
      "\n",
      "----------------------------------------------\n",
      "\n",
      "\n",
      "-------------- Recommended Worker Count --------------\n",
      "\n",
      "For the demand of 3000 units to be met within 7 hours,\n",
      "with the expected task time per unit for each packager and for each palleter \n",
      "being 25 seconds and 10 seconds, respectively,\n",
      "there has to be at least 9 packagers and\n",
      "4 palleters to meet the demand.\n",
      "This will cause cycle time being within 8.4 seconds.\n",
      "\n",
      "------------------------------------------------------\n",
      "\n"
     ]
    }
   ],
   "source": [
    "pblk1.optimizeTaktTimeWorkerCt()\n",
    "# Re-evaluate optimal takt time and worker arrangement"
   ]
  },
  {
   "cell_type": "code",
   "execution_count": 151,
   "metadata": {},
   "outputs": [
    {
     "name": "stdout",
     "output_type": "stream",
     "text": [
      "\n",
      "UPDATE NOTICE:\n",
      "\n",
      "Packaging: 50.0 % of the Cycle Time\n",
      "Assembly Line Transportation: 25.0 % of the Cycle Time\n",
      "Palleting: 25.0 % of the Cycle Time\n"
     ]
    }
   ],
   "source": [
    "pblk1.changeStageProportions([0.5, 0.25, 0.25])\n",
    "# Change of plan: Apportion time so that packaging gets 50% of each Takt Time"
   ]
  },
  {
   "cell_type": "code",
   "execution_count": 152,
   "metadata": {},
   "outputs": [
    {
     "name": "stdout",
     "output_type": "stream",
     "text": [
      "\n",
      "-------------- Takt Time Report --------------\n",
      "\n",
      "Takt Time for the Current Order Size = 8.4 seconds\n",
      "Takt Time for the Current Order Size for Packaging = 4.2 seconds\n",
      "Takt Time for the Current Order Size for Assembly Line Belt Transportation = 2.1 seconds\n",
      "Takt Time for the Current Order Size for Palleting = 2.1 seconds\n",
      "\n",
      "----------------------------------------------\n",
      "\n",
      "\n",
      "-------------- Recommended Worker Count --------------\n",
      "\n",
      "For the demand of 3000 units to be met within 7 hours,\n",
      "with the expected task time per unit for each packager and for each palleter \n",
      "being 25 seconds and 10 seconds, respectively,\n",
      "there has to be at least 6 packagers and\n",
      "5 palleters to meet the demand.\n",
      "This will cause cycle time being within 8.4 seconds.\n",
      "\n",
      "------------------------------------------------------\n",
      "\n"
     ]
    }
   ],
   "source": [
    "pblk1.optimizeTaktTimeWorkerCt()"
   ]
  }
 ],
 "metadata": {
  "kernelspec": {
   "display_name": "base",
   "language": "python",
   "name": "python3"
  },
  "language_info": {
   "codemirror_mode": {
    "name": "ipython",
    "version": 3
   },
   "file_extension": ".py",
   "mimetype": "text/x-python",
   "name": "python",
   "nbconvert_exporter": "python",
   "pygments_lexer": "ipython3",
   "version": "3.11.4"
  }
 },
 "nbformat": 4,
 "nbformat_minor": 2
}
